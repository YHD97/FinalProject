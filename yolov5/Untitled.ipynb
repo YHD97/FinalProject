{
 "cells": [
  {
   "cell_type": "code",
   "execution_count": 1,
   "id": "8f5c75d3",
   "metadata": {},
   "outputs": [
    {
     "name": "stdout",
     "output_type": "stream",
     "text": [
      "Setup complete. Using torch 1.11.0+cu113 (NVIDIA GeForce RTX 3070 Ti Laptop GPU)\n"
     ]
    }
   ],
   "source": [
    "import torch\n",
    "import os\n",
    "from IPython.display import Image, clear_output  # to display images\n",
    "\n",
    "print(f\"Setup complete. Using torch {torch.__version__} ({torch.cuda.get_device_properties(0).name if torch.cuda.is_available() else 'CPU'})\")"
   ]
  },
  {
   "cell_type": "code",
   "execution_count": 4,
   "id": "042503e2",
   "metadata": {},
   "outputs": [
    {
     "name": "stdout",
     "output_type": "stream",
     "text": [
      "^C\n"
     ]
    }
   ],
   "source": [
    "# Train YOLOv5s on COCO128 for 3 epochs\n",
    "!python train.py --img 640 --batch 16 --epochs 20 --data A.yaml --weights yolov5s.pt"
   ]
  },
  {
   "cell_type": "code",
   "execution_count": 3,
   "id": "0c24601a",
   "metadata": {},
   "outputs": [
    {
     "name": "stderr",
     "output_type": "stream",
     "text": [
      "Traceback (most recent call last):\n",
      "  File \"D:\\FinalProject\\yolov5\\train.py\", line 38, in <module>\n",
      "    import val  # for end-of-epoch mAP\n",
      "  File \"D:\\FinalProject\\yolov5\\val.py\", line 37, in <module>\n",
      "    from models.common import DetectMultiBackend\n",
      "  File \"D:\\FinalProject\\yolov5\\models\\common.py\", line 24, in <module>\n",
      "    from utils.dataloaders import exif_transpose, letterbox\n",
      "  File \"D:\\FinalProject\\yolov5\\utils\\dataloaders.py\", line 29, in <module>\n",
      "    from utils.augmentations import Albumentations, augment_hsv, copy_paste, letterbox, mixup, random_perspective\n",
      "  File \"D:\\FinalProject\\yolov5\\utils\\augmentations.py\", line 12, in <module>\n",
      "    from utils.general import LOGGER, check_version, colorstr, resample_segments, segment2box\n",
      "  File \"D:\\FinalProject\\yolov5\\utils\\general.py\", line 33, in <module>\n",
      "    import torchvision\n",
      "  File \"D:\\anaconda3\\envs\\yolo\\lib\\site-packages\\torchvision\\__init__.py\", line 2, in <module>\n",
      "    from torchvision import datasets\n",
      "  File \"D:\\anaconda3\\envs\\yolo\\lib\\site-packages\\torchvision\\datasets\\__init__.py\", line 9, in <module>\n",
      "    from .fakedata import FakeData\n",
      "  File \"D:\\anaconda3\\envs\\yolo\\lib\\site-packages\\torchvision\\datasets\\fakedata.py\", line 3, in <module>\n",
      "    from .. import transforms\n",
      "  File \"D:\\anaconda3\\envs\\yolo\\lib\\site-packages\\torchvision\\transforms\\__init__.py\", line 1, in <module>\n",
      "    from .transforms import *\n",
      "  File \"D:\\anaconda3\\envs\\yolo\\lib\\site-packages\\torchvision\\transforms\\transforms.py\", line 17, in <module>\n",
      "    from . import functional as F\n",
      "  File \"D:\\anaconda3\\envs\\yolo\\lib\\site-packages\\torchvision\\transforms\\functional.py\", line 5, in <module>\n",
      "    from PIL import Image, ImageOps, ImageEnhance, PILLOW_VERSION\n",
      "ImportError: cannot import name 'PILLOW_VERSION' from 'PIL' (D:\\anaconda3\\envs\\yolo\\lib\\site-packages\\PIL\\__init__.py)\n"
     ]
    }
   ],
   "source": [
    "!python detect.py --weights runs\\train\\exp4\\weights\\best.pt --img 640 --conf 0.25 --source ..\\ImageDat2\\"
   ]
  },
  {
   "cell_type": "code",
   "execution_count": 5,
   "id": "182f78fc",
   "metadata": {},
   "outputs": [
    {
     "name": "stdout",
     "output_type": "stream",
     "text": [
      "\u001b[34m\u001b[1mgithub: \u001b[0mskipping check (not a git repository), for updates see https://github.com/ultralytics/yolov5\n"
     ]
    },
    {
     "name": "stderr",
     "output_type": "stream",
     "text": [
      "\u001b[34m\u001b[1mtrain: \u001b[0mweights=yolov5s.pt, cfg=, data=data/A.yaml, hyp=data\\hyps\\hyp.scratch-low.yaml, epochs=100, batch_size=16, imgsz=640, rect=False, resume=False, nosave=False, noval=False, noautoanchor=False, noplots=False, evolve=None, bucket=, cache=None, image_weights=False, device=, multi_scale=False, single_cls=False, optimizer=SGD, sync_bn=False, workers=8, project=runs\\train, name=exp, exist_ok=False, quad=False, cos_lr=False, label_smoothing=0.0, patience=100, freeze=[0], save_period=-1, local_rank=-1, entity=None, upload_dataset=False, bbox_interval=-1, artifact_alias=latest\n",
      "YOLOv5  2022-6-7 Python-3.9.12 torch-1.11.0 CUDA:0 (NVIDIA GeForce RTX 3070 Ti Laptop GPU, 8192MiB)\n",
      "\n",
      "\u001b[34m\u001b[1mhyperparameters: \u001b[0mlr0=0.01, lrf=0.01, momentum=0.937, weight_decay=0.0005, warmup_epochs=3.0, warmup_momentum=0.8, warmup_bias_lr=0.1, box=0.05, cls=0.5, cls_pw=1.0, obj=1.0, obj_pw=1.0, iou_t=0.2, anchor_t=4.0, fl_gamma=0.0, hsv_h=0.015, hsv_s=0.7, hsv_v=0.4, degrees=0.0, translate=0.1, scale=0.5, shear=0.0, perspective=0.0, flipud=0.0, fliplr=0.5, mosaic=1.0, mixup=0.0, copy_paste=0.0\n",
      "\u001b[34m\u001b[1mWeights & Biases: \u001b[0mrun 'pip install wandb' to automatically track and visualize YOLOv5  runs (RECOMMENDED)\n",
      "\u001b[34m\u001b[1mTensorBoard: \u001b[0mStart with 'tensorboard --logdir runs\\train', view at http://localhost:6006/\n",
      "Overriding model.yaml nc=80 with nc=6\n",
      "\n",
      "                 from  n    params  module                                  arguments                     \n",
      "  0                -1  1      3520  models.common.Conv                      [3, 32, 6, 2, 2]              \n",
      "  1                -1  1     18560  models.common.Conv                      [32, 64, 3, 2]                \n",
      "  2                -1  1     18816  models.common.C3                        [64, 64, 1]                   \n",
      "  3                -1  1     73984  models.common.Conv                      [64, 128, 3, 2]               \n",
      "  4                -1  2    115712  models.common.C3                        [128, 128, 2]                 \n",
      "  5                -1  1    295424  models.common.Conv                      [128, 256, 3, 2]              \n",
      "  6                -1  3    625152  models.common.C3                        [256, 256, 3]                 \n",
      "  7                -1  1   1180672  models.common.Conv                      [256, 512, 3, 2]              \n",
      "  8                -1  1   1182720  models.common.C3                        [512, 512, 1]                 \n",
      "  9                -1  1    656896  models.common.SPPF                      [512, 512, 5]                 \n",
      " 10                -1  1    131584  models.common.Conv                      [512, 256, 1, 1]              \n",
      " 11                -1  1         0  torch.nn.modules.upsampling.Upsample    [None, 2, 'nearest']          \n",
      " 12           [-1, 6]  1         0  models.common.Concat                    [1]                           \n",
      " 13                -1  1    361984  models.common.C3                        [512, 256, 1, False]          \n",
      " 14                -1  1     33024  models.common.Conv                      [256, 128, 1, 1]              \n",
      " 15                -1  1         0  torch.nn.modules.upsampling.Upsample    [None, 2, 'nearest']          \n",
      " 16           [-1, 4]  1         0  models.common.Concat                    [1]                           \n",
      " 17                -1  1     90880  models.common.C3                        [256, 128, 1, False]          \n",
      " 18                -1  1    147712  models.common.Conv                      [128, 128, 3, 2]              \n",
      " 19          [-1, 14]  1         0  models.common.Concat                    [1]                           \n",
      " 20                -1  1    296448  models.common.C3                        [256, 256, 1, False]          \n",
      " 21                -1  1    590336  models.common.Conv                      [256, 256, 3, 2]              \n",
      " 22          [-1, 10]  1         0  models.common.Concat                    [1]                           \n",
      " 23                -1  1   1182720  models.common.C3                        [512, 512, 1, False]          \n",
      " 24      [17, 20, 23]  1     29667  models.yolo.Detect                      [6, [[10, 13, 16, 30, 33, 23], [30, 61, 62, 45, 59, 119], [116, 90, 156, 198, 373, 326]], [128, 256, 512]]\n",
      "Model summary: 270 layers, 7035811 parameters, 7035811 gradients, 15.9 GFLOPs\n",
      "\n",
      "Traceback (most recent call last):\n",
      "  File \"D:\\FinalProject\\yolov5\\train.py\", line 670, in <module>\n",
      "    main(opt)\n",
      "  File \"D:\\FinalProject\\yolov5\\train.py\", line 565, in main\n",
      "    train(opt.hyp, opt, device, callbacks)\n",
      "  File \"D:\\FinalProject\\yolov5\\train.py\", line 120, in train\n",
      "    model = Model(cfg or ckpt['model'].yaml, ch=3, nc=nc, anchors=hyp.get('anchors')).to(device)  # create\n",
      "  File \"D:\\anaconda3\\envs\\yolo\\lib\\site-packages\\torch\\nn\\modules\\module.py\", line 907, in to\n",
      "    return self._apply(convert)\n",
      "  File \"D:\\FinalProject\\yolov5\\models\\yolo.py\", line 242, in _apply\n",
      "    self = super()._apply(fn)\n",
      "  File \"D:\\anaconda3\\envs\\yolo\\lib\\site-packages\\torch\\nn\\modules\\module.py\", line 578, in _apply\n",
      "    module._apply(fn)\n",
      "  File \"D:\\anaconda3\\envs\\yolo\\lib\\site-packages\\torch\\nn\\modules\\module.py\", line 578, in _apply\n",
      "    module._apply(fn)\n",
      "  File \"D:\\anaconda3\\envs\\yolo\\lib\\site-packages\\torch\\nn\\modules\\module.py\", line 578, in _apply\n",
      "    module._apply(fn)\n",
      "  File \"D:\\anaconda3\\envs\\yolo\\lib\\site-packages\\torch\\nn\\modules\\module.py\", line 601, in _apply\n",
      "    param_applied = fn(param)\n",
      "  File \"D:\\anaconda3\\envs\\yolo\\lib\\site-packages\\torch\\nn\\modules\\module.py\", line 905, in convert\n",
      "    return t.to(device, dtype if t.is_floating_point() or t.is_complex() else None, non_blocking)\n",
      "RuntimeError: CUDA error: out of memory\n",
      "CUDA kernel errors might be asynchronously reported at some other API call,so the stacktrace below might be incorrect.\n",
      "For debugging consider passing CUDA_LAUNCH_BLOCKING=1.\n"
     ]
    }
   ],
   "source": [
    "!python train.py --img 640 --batch 16 --epochs 100 --data data/A.yaml --weights yolov5s.pt"
   ]
  },
  {
   "cell_type": "code",
   "execution_count": null,
   "id": "0e5dc52a",
   "metadata": {},
   "outputs": [],
   "source": []
  }
 ],
 "metadata": {
  "kernelspec": {
   "display_name": "Python 3 (ipykernel)",
   "language": "python",
   "name": "python3"
  },
  "language_info": {
   "codemirror_mode": {
    "name": "ipython",
    "version": 3
   },
   "file_extension": ".py",
   "mimetype": "text/x-python",
   "name": "python",
   "nbconvert_exporter": "python",
   "pygments_lexer": "ipython3",
   "version": "3.9.12"
  }
 },
 "nbformat": 4,
 "nbformat_minor": 5
}
